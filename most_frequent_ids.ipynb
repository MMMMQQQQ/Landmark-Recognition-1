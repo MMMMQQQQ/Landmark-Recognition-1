{
  "nbformat": 4,
  "nbformat_minor": 0,
  "metadata": {
    "colab": {
      "name": "most_frequent_ids.ipynb",
      "version": "0.3.2",
      "provenance": [],
      "collapsed_sections": [],
      "include_colab_link": true
    },
    "kernelspec": {
      "name": "python3",
      "display_name": "Python 3"
    }
  },
  "cells": [
    {
      "cell_type": "markdown",
      "metadata": {
        "id": "view-in-github",
        "colab_type": "text"
      },
      "source": [
        "<a href=\"https://colab.research.google.com/github/eapost/NeuralNetworkAssignment/blob/master/most_frequent_ids.ipynb\" target=\"_parent\"><img src=\"https://colab.research.google.com/assets/colab-badge.svg\" alt=\"Open In Colab\"/></a>"
      ]
    },
    {
      "cell_type": "code",
      "metadata": {
        "id": "1kxk2KcPdmv3",
        "colab_type": "code",
        "outputId": "efb2e0a0-0edc-47ca-bdff-e3bf284b02ac",
        "colab": {
          "base_uri": "https://localhost:8080/",
          "height": 122
        }
      },
      "source": [
        "from google.colab import drive\n",
        "drive.mount('/content/drive')"
      ],
      "execution_count": 1,
      "outputs": [
        {
          "output_type": "stream",
          "text": [
            "Go to this URL in a browser: https://accounts.google.com/o/oauth2/auth?client_id=947318989803-6bn6qk8qdgf4n4g3pfee6491hc0brc4i.apps.googleusercontent.com&redirect_uri=urn%3Aietf%3Awg%3Aoauth%3A2.0%3Aoob&scope=email%20https%3A%2F%2Fwww.googleapis.com%2Fauth%2Fdocs.test%20https%3A%2F%2Fwww.googleapis.com%2Fauth%2Fdrive%20https%3A%2F%2Fwww.googleapis.com%2Fauth%2Fdrive.photos.readonly%20https%3A%2F%2Fwww.googleapis.com%2Fauth%2Fpeopleapi.readonly&response_type=code\n",
            "\n",
            "Enter your authorization code:\n",
            "··········\n",
            "Mounted at /content/drive\n"
          ],
          "name": "stdout"
        }
      ]
    },
    {
      "cell_type": "code",
      "metadata": {
        "id": "gTdSiGKsdtmb",
        "colab_type": "code",
        "outputId": "a664736d-9b35-40c0-b16d-6422b17aecbe",
        "colab": {
          "base_uri": "https://localhost:8080/",
          "height": 204
        }
      },
      "source": [
        "import pandas as pd\n",
        "import numpy as np\n",
        "import csv\n",
        "mydata = pd.read_csv(\"/content/drive/My Drive/NeuralNetwork/subset.csv\")\n",
        "mydata.head()"
      ],
      "execution_count": 0,
      "outputs": [
        {
          "output_type": "execute_result",
          "data": {
            "text/html": [
              "<div>\n",
              "<style scoped>\n",
              "    .dataframe tbody tr th:only-of-type {\n",
              "        vertical-align: middle;\n",
              "    }\n",
              "\n",
              "    .dataframe tbody tr th {\n",
              "        vertical-align: top;\n",
              "    }\n",
              "\n",
              "    .dataframe thead th {\n",
              "        text-align: right;\n",
              "    }\n",
              "</style>\n",
              "<table border=\"1\" class=\"dataframe\">\n",
              "  <thead>\n",
              "    <tr style=\"text-align: right;\">\n",
              "      <th></th>\n",
              "      <th>id</th>\n",
              "      <th>url</th>\n",
              "      <th>landmark_id</th>\n",
              "    </tr>\n",
              "  </thead>\n",
              "  <tbody>\n",
              "    <tr>\n",
              "      <th>0</th>\n",
              "      <td>0682a33e8af5c4e5</td>\n",
              "      <td>http://lh3.ggpht.com/-E8m7WWrCkew/S3Fl9AeFxqI/...</td>\n",
              "      <td>6051</td>\n",
              "    </tr>\n",
              "    <tr>\n",
              "      <th>1</th>\n",
              "      <td>97dfb5153c85cbf3</td>\n",
              "      <td>http://lh4.ggpht.com/-ZKrBDt_aabU/SBS-_QPe7kI/...</td>\n",
              "      <td>6051</td>\n",
              "    </tr>\n",
              "    <tr>\n",
              "      <th>2</th>\n",
              "      <td>d6026632171c3e69</td>\n",
              "      <td>https://lh3.googleusercontent.com/-KS8DPSkvxGc...</td>\n",
              "      <td>6051</td>\n",
              "    </tr>\n",
              "    <tr>\n",
              "      <th>3</th>\n",
              "      <td>2908ff77fe8e2d44</td>\n",
              "      <td>https://lh6.googleusercontent.com/-JCMo6zTs_7c...</td>\n",
              "      <td>6051</td>\n",
              "    </tr>\n",
              "    <tr>\n",
              "      <th>4</th>\n",
              "      <td>c6430885167b753e</td>\n",
              "      <td>http://lh5.ggpht.com/-ot7x8UD71MU/TOZKMk90FPI/...</td>\n",
              "      <td>6051</td>\n",
              "    </tr>\n",
              "  </tbody>\n",
              "</table>\n",
              "</div>"
            ],
            "text/plain": [
              "                 id  ... landmark_id\n",
              "0  0682a33e8af5c4e5  ...        6051\n",
              "1  97dfb5153c85cbf3  ...        6051\n",
              "2  d6026632171c3e69  ...        6051\n",
              "3  2908ff77fe8e2d44  ...        6051\n",
              "4  c6430885167b753e  ...        6051\n",
              "\n",
              "[5 rows x 3 columns]"
            ]
          },
          "metadata": {
            "tags": []
          },
          "execution_count": 9
        }
      ]
    },
    {
      "cell_type": "code",
      "metadata": {
        "id": "lJi7voTsd3Vm",
        "colab_type": "code",
        "colab": {}
      },
      "source": [
        "rank_number = 50 # Number of top most frequent landmark_id for image selection\n",
        "sampling_rate = 1 # fraction of images from each landmark_id\n",
        "random_state = 17 # for reproducibility\n",
        "\n",
        "landmarks=mydata.groupby(by='landmark_id').count().loc[:,'id']\n",
        "l = landmarks.sort_values(ascending=False)\n",
        "\n",
        "#l=landmarks.sample(frac=1,random_state=random_state)\n",
        "lmks = pd.concat([l, l/l.sum(), l.cumsum()/l.sum()], axis=1, ignore_index=True)\n",
        "lmks.columns=['Count', 'Proportion', 'CumSum']\n",
        "ranked = lmks[0:rank_number]\n",
        "\n",
        "mydata_ordered = mydata[mydata.landmark_id.isin(ranked.index)]\n",
        "sample_gby = mydata_ordered.groupby(by='landmark_id').apply(lambda x: x.sample(frac=sampling_rate, random_state=random_state))\n",
        "sample_idx = sample_gby.index.levels[1]\n",
        "mydata_sample = df.iloc[sample_idx, :]\n",
        "\n",
        "# write to csv file\n",
        "mydata_sample.to_csv('mydata_sample.csv', index=False, quoting=csv.QUOTE_NONNUMERIC)\n",
        "mydata_sample_mydata = pd.read_csv('mydata_sample.csv')"
      ],
      "execution_count": 0,
      "outputs": []
    },
    {
      "cell_type": "code",
      "metadata": {
        "id": "pGjZXWCqedm2",
        "colab_type": "code",
        "colab": {}
      },
      "source": [
        "import matplotlib.pyplot as plt\n",
        "import seaborn as sns\n",
        "%matplotlib inline"
      ],
      "execution_count": 0,
      "outputs": []
    },
    {
      "cell_type": "code",
      "metadata": {
        "id": "3kCv4u7Reiju",
        "colab_type": "code",
        "outputId": "943d6d97-0194-4410-88f8-a45cc0cce30c",
        "colab": {
          "base_uri": "https://localhost:8080/",
          "height": 427
        }
      },
      "source": [
        "plt.figure(figsize = (14, 6))\n",
        "g = sns.countplot(x=\"landmark_id\", data=df_sample)\n",
        "g.set_title(\"Frequency of landmark_id\", fontweight=\"bold\", fontsize=12)\n",
        "plt.xticks(rotation=90)\n",
        "plt.show()"
      ],
      "execution_count": 0,
      "outputs": [
        {
          "output_type": "display_data",
          "data": {
            "image/png": "[encoded data removed]",
            "text/plain": [
              "<Figure size 1008x432 with 1 Axes>"
            ]
          },
          "metadata": {
            "tags": []
          }
        }
      ]
    }
  ]
}